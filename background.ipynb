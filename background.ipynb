{
 "cells": [
  {
   "cell_type": "markdown",
   "metadata": {},
   "source": [
    "# 1. Gut Microbiome\n",
    "\n",
    "![](./images/microbiome.jpg)\n",
    "<!-- image refernce: https://www.genome.gov/about-nhgri/Director/genomics-landscape/june-6-2019-Human-Microbiome_Project-->\n",
    "\n",
    "The gut microbiome refers to the vast community of microorganisms living in the digestive tracts of humans and other animals, as well as their interactions with that environment. These microbes are impacted by their host and in turn, impact their host<sup>1</sup>.\n",
    "\n",
    "## Microbiota: The \"Who\" in the microbiome.\n",
    "\n",
    "The microbiota are the community of microorganisms making up the microbiome. This includes:\n",
    " - *Bacteria*\n",
    " - *Archaea*\n",
    " - *Fungi*\n",
    " - *Protists*\n",
    " - *Algae*\n",
    "\n",
    "## Microbiome: What the microbes actually do.\n",
    "\n",
    "Microorganisms can impact their environment (or the host) in various ways. The term \"theater of activity\" refers to what they are doing in their environment. Microbes contain and produce structural elements (proteins, lipids, polysaccharides), nucleic acids (DNA and RNA), and metabolites, through whcih the microbiome interacts dynamically within itself and with the environment (in this case--you).  \n",
    "\n",
    "These microbes play essential roles in digestion, nutrient absorption, immune system function, and even mental health<sup>2-3</sup>. An imbalance in the gut microbiome, known as dysbiosis, has been linked to a range of health conditions, including inflammatory bowel disease, obesity, diabetes, and even mental health disorders like depression<sup>3</sup>.\n",
    "\n",
    "![](./images/Microbiome_SF.png)\n",
    "<!-- image refernce: Freese lab slides-->"
   ]
  },
  {
   "cell_type": "markdown",
   "metadata": {},
   "source": [
    "# 2. 16S rRNA Sequencing\n",
    "We will be analyzing microbiota community composition using 16s sequencing. 16S is the ribosomal RNA (rRNA) found in prokaryotes, distinct from eukaryotic ribosomal RNA, thus an efficient filter for prokaryotes from our samples<sup>3</sup>. The 16S gene, found in the small subunit of the prokaryotic ribosomes, has many highly conserved areas across species, enabling the creation of primers that bind and amplify almost all bacterial species. Additionally, this gene has areas of highly variable sequences, allowing us to differentiate which species we have. 16S rRNA analysis determines the diversity and relative abundance of microbes in a sample. We can then associate differences in diet and lifestyle with microbiome community structure.\n",
    "\n",
    "![](./images/16S.jpg)\n",
    "<!-- image refernce: https://www.youtube.com/watch?app=desktop&v=uO_Q2cPqW0U-->"
   ]
  },
  {
   "cell_type": "markdown",
   "metadata": {},
   "source": [
    "## References \n",
    "1. Xu Z, & Knight R. (2015). Dietary effects on human gut microbiome diversity. British Journal of Nutrition, 113(S1), S1–S5. doi:10.1017/S0007114514004127\n",
    "2. Turnbaugh PJ, Ley RE, Hamady M, et al. (2007) The Human Microbiome Project. Nature 449, 804–810\n",
    "3. Clemente JC, Ursell LK, Parfrey LW, et al. (2012) The impact of the gut microbiota on human health: an integrative view. Cell 148, 1258–1270\n",
    "4. Weinroth MD, et al. (2022). Considerations and best practices in animal science 16S ribosomal RNA gene sequencing microbiome studies. Journal of Animal Science 100(2), 1525-3163. doi:10.1093/jas/skab346"
   ]
  },
  {
   "cell_type": "code",
   "execution_count": null,
   "metadata": {},
   "outputs": [],
   "source": []
  }
 ],
 "metadata": {
  "kernelspec": {
   "display_name": "Python 3 (ipykernel)",
   "language": "python",
   "name": "python3"
  },
  "language_info": {
   "codemirror_mode": {
    "name": "ipython",
    "version": 3
   },
   "file_extension": ".py",
   "mimetype": "text/x-python",
   "name": "python",
   "nbconvert_exporter": "python",
   "pygments_lexer": "ipython3",
   "version": "3.12.6"
  }
 },
 "nbformat": 4,
 "nbformat_minor": 4
}
